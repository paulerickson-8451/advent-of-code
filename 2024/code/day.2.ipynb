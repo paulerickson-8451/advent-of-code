{
 "cells": [
  {
   "cell_type": "code",
   "execution_count": 11,
   "metadata": {},
   "outputs": [],
   "source": [
    "# read the entire file into a multi-line string\n",
    "def read_data(file_path):\n",
    "    with open(file_path, 'r') as file:\n",
    "        data = file.read()\n",
    "    return data\n",
    "\n",
    "file_path = '../data/day-2.txt'\n",
    "data = read_data(file_path)\n",
    "\n",
    "# print(data)"
   ]
  },
  {
   "cell_type": "code",
   "execution_count": 12,
   "metadata": {},
   "outputs": [
    {
     "name": "stdout",
     "output_type": "stream",
     "text": [
      "463\n"
     ]
    }
   ],
   "source": [
    "def is_safe(report):\n",
    "    increasing = all(1 <= report[i+1] - report[i] <= 3 for i in range(len(report) - 1))\n",
    "    decreasing = all(1 <= report[i] - report[i+1] <= 3 for i in range(len(report) - 1))\n",
    "    return increasing or decreasing\n",
    "\n",
    "def count_safe_reports(data):\n",
    "    reports = [list(map(int, line.split())) for line in data.strip().split('\\n')]\n",
    "    return sum(is_safe(report) for report in reports)\n",
    "\n",
    "# Count the number of safe reports\n",
    "safe_reports_count = count_safe_reports(data)\n",
    "print(safe_reports_count)"
   ]
  },
  {
   "cell_type": "code",
   "execution_count": 13,
   "metadata": {},
   "outputs": [
    {
     "name": "stdout",
     "output_type": "stream",
     "text": [
      "514\n"
     ]
    }
   ],
   "source": [
    "### Part Two: Problem Dampener\n",
    "\n",
    "def is_safe_with_dampener(report):\n",
    "    if is_safe(report):\n",
    "        return True\n",
    "    for i in range(len(report)):\n",
    "        modified_report = report[:i] + report[i+1:]\n",
    "        if is_safe(modified_report):\n",
    "            return True\n",
    "    return False\n",
    "\n",
    "def count_safe_reports_with_dampener(data):\n",
    "    reports = [list(map(int, line.split())) for line in data.strip().split('\\n')]\n",
    "    return sum(is_safe_with_dampener(report) for report in reports)\n",
    "\n",
    "# Count the number of safe reports with the Problem Dampener\n",
    "safe_reports_count_with_dampener = count_safe_reports_with_dampener(data)\n",
    "print(safe_reports_count_with_dampener)"
   ]
  },
  {
   "cell_type": "code",
   "execution_count": null,
   "metadata": {},
   "outputs": [],
   "source": []
  }
 ],
 "metadata": {
  "kernelspec": {
   "display_name": "advent-of-code",
   "language": "python",
   "name": "python3"
  },
  "language_info": {
   "codemirror_mode": {
    "name": "ipython",
    "version": 3
   },
   "file_extension": ".py",
   "mimetype": "text/x-python",
   "name": "python",
   "nbconvert_exporter": "python",
   "pygments_lexer": "ipython3",
   "version": "3.9.17"
  }
 },
 "nbformat": 4,
 "nbformat_minor": 2
}
